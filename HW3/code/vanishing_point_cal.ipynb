{
  "cells": [
    {
      "cell_type": "code",
      "execution_count": null,
      "metadata": {
        "id": "mn3aDhVH8eJF"
      },
      "outputs": [],
      "source": [
        "import numpy as np\n",
        "import cv2\n",
        "import matplotlib.pyplot as plt\n",
        "\n",
        "\n",
        "img = cv2.imread('/content/vanishing point.PNG')\n",
        "gray = cv2.cvtColor(img, cv2.COLOR_BGR2GRAY)\n",
        "edges = cv2.Canny(gray, 50, 150, apertureSize=3)\n",
        "lines = cv2.HoughLinesP(edges, 1, np.pi/180, 100, minLineLength=10, maxLineGap=10)\n"
      ]
    },
    {
      "cell_type": "code",
      "execution_count": null,
      "metadata": {
        "id": "9LXIRWhp_-FE"
      },
      "outputs": [],
      "source": [
        "\n",
        "# Estimate vanishing point using RANSAC\n",
        "def estimate_vanishing_point(lines):\n",
        "    best_model = None\n",
        "    best_score = 0\n",
        "    for _ in range(100):\n",
        "        # Sample two random lines\n",
        "        idx1, idx2 = np.random.choice(len(lines), 2, replace=False)\n",
        "        line1, line2 = lines[idx1][0], lines[idx2][0]\n",
        "\n",
        "        # Calculate intersection point\n",
        "        x1, y1, x2, y2 = line1\n",
        "        x3, y3, x4, y4 = line2\n",
        "        denom = (x1-x2)*(y3-y4) - (y1-y2)*(x3-x4)\n",
        "        if denom == 0:\n",
        "            continue\n",
        "        x = ((x1*y2-y1*x2)*(x3-x4) - (x1-x2)*(x3*y4-y3*x4)) / denom\n",
        "        y = ((x1*y2-y1*x2)*(y3-y4) - (y1-y2)*(x3*y4-y3*x4)) / denom\n",
        "\n",
        "        # Count inliers\n",
        "        score = 0\n",
        "        for line in lines:\n",
        "            x1, y1, x2, y2 = line[0]\n",
        "            dist = np.abs((y2-y1)*x - (x2-x1)*y + x2*y1 - y2*x1) / np.sqrt((y2-y1)**2 + (x2-x1)**2)\n",
        "            if dist < 10:\n",
        "                score += 1\n",
        "        if score > best_score:\n",
        "            best_score = score\n",
        "            best_model = (x, y)\n",
        "\n",
        "    return best_model\n",
        "\n"
      ]
    },
    {
      "cell_type": "code",
      "execution_count": null,
      "metadata": {
        "id": "uo6xbw27AAel"
      },
      "outputs": [],
      "source": [
        "vanishing_point = estimate_vanishing_point(lines)\n",
        "\n",
        "# Visualize the vanishing point\n",
        "cv2.circle(img, (int(vanishing_point[0]), int(vanishing_point[1])), 5, (0, 0, 255), -1)\n",
        "plt.imshow(img)"
      ]
    },
    {
      "cell_type": "code",
      "execution_count": null,
      "metadata": {
        "id": "PJnnqN-XACBx"
      },
      "outputs": [],
      "source": [
        "vanishing_point"
      ]
    }
  ],
  "metadata": {
    "colab": {
      "provenance": []
    },
    "kernelspec": {
      "display_name": "Python 3",
      "name": "python3"
    },
    "language_info": {
      "name": "python"
    }
  },
  "nbformat": 4,
  "nbformat_minor": 0
}
